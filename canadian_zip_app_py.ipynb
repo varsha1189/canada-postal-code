{
  "nbformat": 4,
  "nbformat_minor": 0,
  "metadata": {
    "colab": {
      "provenance": [],
      "authorship_tag": "ABX9TyMYO1lAPWrGoyhARKlY9K/+",
      "include_colab_link": true
    },
    "kernelspec": {
      "name": "python3",
      "display_name": "Python 3"
    },
    "language_info": {
      "name": "python"
    }
  },
  "cells": [
    {
      "cell_type": "markdown",
      "metadata": {
        "id": "view-in-github",
        "colab_type": "text"
      },
      "source": [
        "<a href=\"https://colab.research.google.com/github/varsha1189/canada-postal-code/blob/main/canadian_zip_app_py.ipynb\" target=\"_parent\"><img src=\"https://colab.research.google.com/assets/colab-badge.svg\" alt=\"Open In Colab\"/></a>"
      ]
    },
    {
      "cell_type": "code",
      "source": [
        "pip install streamlit"
      ],
      "metadata": {
        "colab": {
          "base_uri": "https://localhost:8080/"
        },
        "id": "bIJ8QY-ilnis",
        "outputId": "3d923514-d8fc-486d-e637-fee78ca53ec4"
      },
      "execution_count": 25,
      "outputs": [
        {
          "output_type": "stream",
          "name": "stdout",
          "text": [
            "Requirement already satisfied: streamlit in /usr/local/lib/python3.11/dist-packages (1.48.0)\n",
            "Requirement already satisfied: altair!=5.4.0,!=5.4.1,<6,>=4.0 in /usr/local/lib/python3.11/dist-packages (from streamlit) (5.5.0)\n",
            "Requirement already satisfied: blinker<2,>=1.5.0 in /usr/local/lib/python3.11/dist-packages (from streamlit) (1.9.0)\n",
            "Requirement already satisfied: cachetools<7,>=4.0 in /usr/local/lib/python3.11/dist-packages (from streamlit) (5.5.2)\n",
            "Requirement already satisfied: click<9,>=7.0 in /usr/local/lib/python3.11/dist-packages (from streamlit) (8.2.1)\n",
            "Requirement already satisfied: numpy<3,>=1.23 in /usr/local/lib/python3.11/dist-packages (from streamlit) (2.0.2)\n",
            "Requirement already satisfied: packaging<26,>=20 in /usr/local/lib/python3.11/dist-packages (from streamlit) (25.0)\n",
            "Requirement already satisfied: pandas<3,>=1.4.0 in /usr/local/lib/python3.11/dist-packages (from streamlit) (2.2.2)\n",
            "Requirement already satisfied: pillow<12,>=7.1.0 in /usr/local/lib/python3.11/dist-packages (from streamlit) (11.3.0)\n",
            "Requirement already satisfied: protobuf<7,>=3.20 in /usr/local/lib/python3.11/dist-packages (from streamlit) (5.29.5)\n",
            "Requirement already satisfied: pyarrow>=7.0 in /usr/local/lib/python3.11/dist-packages (from streamlit) (18.1.0)\n",
            "Requirement already satisfied: requests<3,>=2.27 in /usr/local/lib/python3.11/dist-packages (from streamlit) (2.32.3)\n",
            "Requirement already satisfied: tenacity<10,>=8.1.0 in /usr/local/lib/python3.11/dist-packages (from streamlit) (8.5.0)\n",
            "Requirement already satisfied: toml<2,>=0.10.1 in /usr/local/lib/python3.11/dist-packages (from streamlit) (0.10.2)\n",
            "Requirement already satisfied: typing-extensions<5,>=4.4.0 in /usr/local/lib/python3.11/dist-packages (from streamlit) (4.14.1)\n",
            "Requirement already satisfied: watchdog<7,>=2.1.5 in /usr/local/lib/python3.11/dist-packages (from streamlit) (6.0.0)\n",
            "Requirement already satisfied: gitpython!=3.1.19,<4,>=3.0.7 in /usr/local/lib/python3.11/dist-packages (from streamlit) (3.1.45)\n",
            "Requirement already satisfied: pydeck<1,>=0.8.0b4 in /usr/local/lib/python3.11/dist-packages (from streamlit) (0.9.1)\n",
            "Requirement already satisfied: tornado!=6.5.0,<7,>=6.0.3 in /usr/local/lib/python3.11/dist-packages (from streamlit) (6.4.2)\n",
            "Requirement already satisfied: jinja2 in /usr/local/lib/python3.11/dist-packages (from altair!=5.4.0,!=5.4.1,<6,>=4.0->streamlit) (3.1.6)\n",
            "Requirement already satisfied: jsonschema>=3.0 in /usr/local/lib/python3.11/dist-packages (from altair!=5.4.0,!=5.4.1,<6,>=4.0->streamlit) (4.25.0)\n",
            "Requirement already satisfied: narwhals>=1.14.2 in /usr/local/lib/python3.11/dist-packages (from altair!=5.4.0,!=5.4.1,<6,>=4.0->streamlit) (1.48.1)\n",
            "Requirement already satisfied: gitdb<5,>=4.0.1 in /usr/local/lib/python3.11/dist-packages (from gitpython!=3.1.19,<4,>=3.0.7->streamlit) (4.0.12)\n",
            "Requirement already satisfied: python-dateutil>=2.8.2 in /usr/local/lib/python3.11/dist-packages (from pandas<3,>=1.4.0->streamlit) (2.9.0.post0)\n",
            "Requirement already satisfied: pytz>=2020.1 in /usr/local/lib/python3.11/dist-packages (from pandas<3,>=1.4.0->streamlit) (2025.2)\n",
            "Requirement already satisfied: tzdata>=2022.7 in /usr/local/lib/python3.11/dist-packages (from pandas<3,>=1.4.0->streamlit) (2025.2)\n",
            "Requirement already satisfied: charset-normalizer<4,>=2 in /usr/local/lib/python3.11/dist-packages (from requests<3,>=2.27->streamlit) (3.4.2)\n",
            "Requirement already satisfied: idna<4,>=2.5 in /usr/local/lib/python3.11/dist-packages (from requests<3,>=2.27->streamlit) (3.10)\n",
            "Requirement already satisfied: urllib3<3,>=1.21.1 in /usr/local/lib/python3.11/dist-packages (from requests<3,>=2.27->streamlit) (2.5.0)\n",
            "Requirement already satisfied: certifi>=2017.4.17 in /usr/local/lib/python3.11/dist-packages (from requests<3,>=2.27->streamlit) (2025.7.14)\n",
            "Requirement already satisfied: smmap<6,>=3.0.1 in /usr/local/lib/python3.11/dist-packages (from gitdb<5,>=4.0.1->gitpython!=3.1.19,<4,>=3.0.7->streamlit) (5.0.2)\n",
            "Requirement already satisfied: MarkupSafe>=2.0 in /usr/local/lib/python3.11/dist-packages (from jinja2->altair!=5.4.0,!=5.4.1,<6,>=4.0->streamlit) (3.0.2)\n",
            "Requirement already satisfied: attrs>=22.2.0 in /usr/local/lib/python3.11/dist-packages (from jsonschema>=3.0->altair!=5.4.0,!=5.4.1,<6,>=4.0->streamlit) (25.3.0)\n",
            "Requirement already satisfied: jsonschema-specifications>=2023.03.6 in /usr/local/lib/python3.11/dist-packages (from jsonschema>=3.0->altair!=5.4.0,!=5.4.1,<6,>=4.0->streamlit) (2025.4.1)\n",
            "Requirement already satisfied: referencing>=0.28.4 in /usr/local/lib/python3.11/dist-packages (from jsonschema>=3.0->altair!=5.4.0,!=5.4.1,<6,>=4.0->streamlit) (0.36.2)\n",
            "Requirement already satisfied: rpds-py>=0.7.1 in /usr/local/lib/python3.11/dist-packages (from jsonschema>=3.0->altair!=5.4.0,!=5.4.1,<6,>=4.0->streamlit) (0.26.0)\n",
            "Requirement already satisfied: six>=1.5 in /usr/local/lib/python3.11/dist-packages (from python-dateutil>=2.8.2->pandas<3,>=1.4.0->streamlit) (1.17.0)\n"
          ]
        }
      ]
    },
    {
      "cell_type": "code",
      "execution_count": 26,
      "metadata": {
        "id": "yIMyaZTnkqHO"
      },
      "outputs": [],
      "source": [
        "import streamlit as st\n",
        "import pandas as pd\n",
        "import io\n",
        "import string"
      ]
    },
    {
      "cell_type": "code",
      "source": [
        "\n",
        "def group_postal_codes(codes):\n",
        "    \"\"\"\n",
        "    Group Canadian postal codes based on the first 3 fixed characters.\n",
        "    Group format: Group : H1A0A0..H1A0Z9\n",
        "    \"\"\"\n",
        "    grouped = {}\n",
        "    for code in codes:\n",
        "        if len(code) != 6:\n",
        "            continue  # skip invalid codes\n",
        "        prefix = code[:3]  # e.g., H1A\n",
        "        suffix = code[3:]  # e.g., 0A0\n",
        "        if prefix not in grouped:\n",
        "            grouped[prefix] = []\n",
        "        grouped[prefix].append(suffix)\n",
        "\n",
        "    result = []\n",
        "    for prefix, suffixes in grouped.items():\n",
        "        sorted_suffixes = sorted(suffixes)\n",
        "        result.append(f\"Group : {prefix}{sorted_suffixes[0]}..{prefix}{sorted_suffixes[-1]}\")\n",
        "    return result\n",
        "\n",
        "\n",
        "def ungroup_postal_codes(grouped_ranges):\n",
        "    \"\"\"\n",
        "    Expand grouped ranges like Group : H1A0A0..H1A0Z9 into individual postal codes.\n",
        "    Assumes suffix varies across A-Z and 0-9 for each position.\n",
        "    \"\"\"\n",
        "    expanded = []\n",
        "    for entry in grouped_ranges:\n",
        "        if not entry.startswith(\"Group : \"):\n",
        "            continue\n",
        "\n",
        "        range_part = entry.split(\"Group : \")[1].strip()\n",
        "        start_code, end_code = range_part.split(\"..\")\n",
        "        prefix = start_code[:3]\n",
        "        start_suffix = start_code[3:]\n",
        "        end_suffix = end_code[3:]\n",
        "\n",
        "        # Brute-force generate all suffixes between start and end (alphanumeric order)\n",
        "        for a in string.digits:\n",
        "            for b in string.ascii_uppercase:\n",
        "                for c in string.digits:\n",
        "                    suffix = f\"{a}{b}{c}\"\n",
        "                    if start_suffix <= suffix <= end_suffix:\n",
        "                        expanded.append(f\"{prefix}{suffix}\")\n",
        "    return expanded\n",
        "\n",
        "\n",
        "# Example usage\n",
        "if __name__ == \"__main__\":\n",
        "    sample_codes = [\n",
        "        \"H1A0A0\", \"H1A0A1\", \"H1A0A2\", \"H1A0B0\", \"H1A0Z9\",\n",
        "        \"K2B1A1\", \"K2B1A2\", \"K2B1B3\", \"K2B1Z8\"\n",
        "    ]\n",
        "\n",
        "    print(\"📦 Grouped Postal Code Ranges:\")\n",
        "    grouped_output = group_postal_codes(sample_codes)\n",
        "    for group in grouped_output:\n",
        "        print(group)\n",
        "\n",
        "    print(\"\\n📤 Ungrouped Postal Codes:\")\n",
        "    ungrouped_output = ungroup_postal_codes(grouped_output)\n",
        "    print(ungrouped_output)\n"
      ],
      "metadata": {
        "id": "aUf_nh_sk1mY",
        "colab": {
          "base_uri": "https://localhost:8080/"
        },
        "outputId": "2195be28-1f01-4348-beb3-41629341900b"
      },
      "execution_count": 27,
      "outputs": [
        {
          "output_type": "stream",
          "name": "stdout",
          "text": [
            "📦 Grouped Postal Code Ranges:\n",
            "Group : H1A0A0..H1A0Z9\n",
            "Group : K2B1A1..K2B1Z8\n",
            "\n",
            "📤 Ungrouped Postal Codes:\n",
            "['H1A0A0', 'H1A0A1', 'H1A0A2', 'H1A0A3', 'H1A0A4', 'H1A0A5', 'H1A0A6', 'H1A0A7', 'H1A0A8', 'H1A0A9', 'H1A0B0', 'H1A0B1', 'H1A0B2', 'H1A0B3', 'H1A0B4', 'H1A0B5', 'H1A0B6', 'H1A0B7', 'H1A0B8', 'H1A0B9', 'H1A0C0', 'H1A0C1', 'H1A0C2', 'H1A0C3', 'H1A0C4', 'H1A0C5', 'H1A0C6', 'H1A0C7', 'H1A0C8', 'H1A0C9', 'H1A0D0', 'H1A0D1', 'H1A0D2', 'H1A0D3', 'H1A0D4', 'H1A0D5', 'H1A0D6', 'H1A0D7', 'H1A0D8', 'H1A0D9', 'H1A0E0', 'H1A0E1', 'H1A0E2', 'H1A0E3', 'H1A0E4', 'H1A0E5', 'H1A0E6', 'H1A0E7', 'H1A0E8', 'H1A0E9', 'H1A0F0', 'H1A0F1', 'H1A0F2', 'H1A0F3', 'H1A0F4', 'H1A0F5', 'H1A0F6', 'H1A0F7', 'H1A0F8', 'H1A0F9', 'H1A0G0', 'H1A0G1', 'H1A0G2', 'H1A0G3', 'H1A0G4', 'H1A0G5', 'H1A0G6', 'H1A0G7', 'H1A0G8', 'H1A0G9', 'H1A0H0', 'H1A0H1', 'H1A0H2', 'H1A0H3', 'H1A0H4', 'H1A0H5', 'H1A0H6', 'H1A0H7', 'H1A0H8', 'H1A0H9', 'H1A0I0', 'H1A0I1', 'H1A0I2', 'H1A0I3', 'H1A0I4', 'H1A0I5', 'H1A0I6', 'H1A0I7', 'H1A0I8', 'H1A0I9', 'H1A0J0', 'H1A0J1', 'H1A0J2', 'H1A0J3', 'H1A0J4', 'H1A0J5', 'H1A0J6', 'H1A0J7', 'H1A0J8', 'H1A0J9', 'H1A0K0', 'H1A0K1', 'H1A0K2', 'H1A0K3', 'H1A0K4', 'H1A0K5', 'H1A0K6', 'H1A0K7', 'H1A0K8', 'H1A0K9', 'H1A0L0', 'H1A0L1', 'H1A0L2', 'H1A0L3', 'H1A0L4', 'H1A0L5', 'H1A0L6', 'H1A0L7', 'H1A0L8', 'H1A0L9', 'H1A0M0', 'H1A0M1', 'H1A0M2', 'H1A0M3', 'H1A0M4', 'H1A0M5', 'H1A0M6', 'H1A0M7', 'H1A0M8', 'H1A0M9', 'H1A0N0', 'H1A0N1', 'H1A0N2', 'H1A0N3', 'H1A0N4', 'H1A0N5', 'H1A0N6', 'H1A0N7', 'H1A0N8', 'H1A0N9', 'H1A0O0', 'H1A0O1', 'H1A0O2', 'H1A0O3', 'H1A0O4', 'H1A0O5', 'H1A0O6', 'H1A0O7', 'H1A0O8', 'H1A0O9', 'H1A0P0', 'H1A0P1', 'H1A0P2', 'H1A0P3', 'H1A0P4', 'H1A0P5', 'H1A0P6', 'H1A0P7', 'H1A0P8', 'H1A0P9', 'H1A0Q0', 'H1A0Q1', 'H1A0Q2', 'H1A0Q3', 'H1A0Q4', 'H1A0Q5', 'H1A0Q6', 'H1A0Q7', 'H1A0Q8', 'H1A0Q9', 'H1A0R0', 'H1A0R1', 'H1A0R2', 'H1A0R3', 'H1A0R4', 'H1A0R5', 'H1A0R6', 'H1A0R7', 'H1A0R8', 'H1A0R9', 'H1A0S0', 'H1A0S1', 'H1A0S2', 'H1A0S3', 'H1A0S4', 'H1A0S5', 'H1A0S6', 'H1A0S7', 'H1A0S8', 'H1A0S9', 'H1A0T0', 'H1A0T1', 'H1A0T2', 'H1A0T3', 'H1A0T4', 'H1A0T5', 'H1A0T6', 'H1A0T7', 'H1A0T8', 'H1A0T9', 'H1A0U0', 'H1A0U1', 'H1A0U2', 'H1A0U3', 'H1A0U4', 'H1A0U5', 'H1A0U6', 'H1A0U7', 'H1A0U8', 'H1A0U9', 'H1A0V0', 'H1A0V1', 'H1A0V2', 'H1A0V3', 'H1A0V4', 'H1A0V5', 'H1A0V6', 'H1A0V7', 'H1A0V8', 'H1A0V9', 'H1A0W0', 'H1A0W1', 'H1A0W2', 'H1A0W3', 'H1A0W4', 'H1A0W5', 'H1A0W6', 'H1A0W7', 'H1A0W8', 'H1A0W9', 'H1A0X0', 'H1A0X1', 'H1A0X2', 'H1A0X3', 'H1A0X4', 'H1A0X5', 'H1A0X6', 'H1A0X7', 'H1A0X8', 'H1A0X9', 'H1A0Y0', 'H1A0Y1', 'H1A0Y2', 'H1A0Y3', 'H1A0Y4', 'H1A0Y5', 'H1A0Y6', 'H1A0Y7', 'H1A0Y8', 'H1A0Y9', 'H1A0Z0', 'H1A0Z1', 'H1A0Z2', 'H1A0Z3', 'H1A0Z4', 'H1A0Z5', 'H1A0Z6', 'H1A0Z7', 'H1A0Z8', 'H1A0Z9', 'K2B1A1', 'K2B1A2', 'K2B1A3', 'K2B1A4', 'K2B1A5', 'K2B1A6', 'K2B1A7', 'K2B1A8', 'K2B1A9', 'K2B1B0', 'K2B1B1', 'K2B1B2', 'K2B1B3', 'K2B1B4', 'K2B1B5', 'K2B1B6', 'K2B1B7', 'K2B1B8', 'K2B1B9', 'K2B1C0', 'K2B1C1', 'K2B1C2', 'K2B1C3', 'K2B1C4', 'K2B1C5', 'K2B1C6', 'K2B1C7', 'K2B1C8', 'K2B1C9', 'K2B1D0', 'K2B1D1', 'K2B1D2', 'K2B1D3', 'K2B1D4', 'K2B1D5', 'K2B1D6', 'K2B1D7', 'K2B1D8', 'K2B1D9', 'K2B1E0', 'K2B1E1', 'K2B1E2', 'K2B1E3', 'K2B1E4', 'K2B1E5', 'K2B1E6', 'K2B1E7', 'K2B1E8', 'K2B1E9', 'K2B1F0', 'K2B1F1', 'K2B1F2', 'K2B1F3', 'K2B1F4', 'K2B1F5', 'K2B1F6', 'K2B1F7', 'K2B1F8', 'K2B1F9', 'K2B1G0', 'K2B1G1', 'K2B1G2', 'K2B1G3', 'K2B1G4', 'K2B1G5', 'K2B1G6', 'K2B1G7', 'K2B1G8', 'K2B1G9', 'K2B1H0', 'K2B1H1', 'K2B1H2', 'K2B1H3', 'K2B1H4', 'K2B1H5', 'K2B1H6', 'K2B1H7', 'K2B1H8', 'K2B1H9', 'K2B1I0', 'K2B1I1', 'K2B1I2', 'K2B1I3', 'K2B1I4', 'K2B1I5', 'K2B1I6', 'K2B1I7', 'K2B1I8', 'K2B1I9', 'K2B1J0', 'K2B1J1', 'K2B1J2', 'K2B1J3', 'K2B1J4', 'K2B1J5', 'K2B1J6', 'K2B1J7', 'K2B1J8', 'K2B1J9', 'K2B1K0', 'K2B1K1', 'K2B1K2', 'K2B1K3', 'K2B1K4', 'K2B1K5', 'K2B1K6', 'K2B1K7', 'K2B1K8', 'K2B1K9', 'K2B1L0', 'K2B1L1', 'K2B1L2', 'K2B1L3', 'K2B1L4', 'K2B1L5', 'K2B1L6', 'K2B1L7', 'K2B1L8', 'K2B1L9', 'K2B1M0', 'K2B1M1', 'K2B1M2', 'K2B1M3', 'K2B1M4', 'K2B1M5', 'K2B1M6', 'K2B1M7', 'K2B1M8', 'K2B1M9', 'K2B1N0', 'K2B1N1', 'K2B1N2', 'K2B1N3', 'K2B1N4', 'K2B1N5', 'K2B1N6', 'K2B1N7', 'K2B1N8', 'K2B1N9', 'K2B1O0', 'K2B1O1', 'K2B1O2', 'K2B1O3', 'K2B1O4', 'K2B1O5', 'K2B1O6', 'K2B1O7', 'K2B1O8', 'K2B1O9', 'K2B1P0', 'K2B1P1', 'K2B1P2', 'K2B1P3', 'K2B1P4', 'K2B1P5', 'K2B1P6', 'K2B1P7', 'K2B1P8', 'K2B1P9', 'K2B1Q0', 'K2B1Q1', 'K2B1Q2', 'K2B1Q3', 'K2B1Q4', 'K2B1Q5', 'K2B1Q6', 'K2B1Q7', 'K2B1Q8', 'K2B1Q9', 'K2B1R0', 'K2B1R1', 'K2B1R2', 'K2B1R3', 'K2B1R4', 'K2B1R5', 'K2B1R6', 'K2B1R7', 'K2B1R8', 'K2B1R9', 'K2B1S0', 'K2B1S1', 'K2B1S2', 'K2B1S3', 'K2B1S4', 'K2B1S5', 'K2B1S6', 'K2B1S7', 'K2B1S8', 'K2B1S9', 'K2B1T0', 'K2B1T1', 'K2B1T2', 'K2B1T3', 'K2B1T4', 'K2B1T5', 'K2B1T6', 'K2B1T7', 'K2B1T8', 'K2B1T9', 'K2B1U0', 'K2B1U1', 'K2B1U2', 'K2B1U3', 'K2B1U4', 'K2B1U5', 'K2B1U6', 'K2B1U7', 'K2B1U8', 'K2B1U9', 'K2B1V0', 'K2B1V1', 'K2B1V2', 'K2B1V3', 'K2B1V4', 'K2B1V5', 'K2B1V6', 'K2B1V7', 'K2B1V8', 'K2B1V9', 'K2B1W0', 'K2B1W1', 'K2B1W2', 'K2B1W3', 'K2B1W4', 'K2B1W5', 'K2B1W6', 'K2B1W7', 'K2B1W8', 'K2B1W9', 'K2B1X0', 'K2B1X1', 'K2B1X2', 'K2B1X3', 'K2B1X4', 'K2B1X5', 'K2B1X6', 'K2B1X7', 'K2B1X8', 'K2B1X9', 'K2B1Y0', 'K2B1Y1', 'K2B1Y2', 'K2B1Y3', 'K2B1Y4', 'K2B1Y5', 'K2B1Y6', 'K2B1Y7', 'K2B1Y8', 'K2B1Y9', 'K2B1Z0', 'K2B1Z1', 'K2B1Z2', 'K2B1Z3', 'K2B1Z4', 'K2B1Z5', 'K2B1Z6', 'K2B1Z7', 'K2B1Z8']\n"
          ]
        }
      ]
    },
    {
      "cell_type": "code",
      "source": [
        "st.title(\"📍 Canadian Zip Code Grouper/Ungrouper\")\n",
        "\n",
        "uploaded_file = st.file_uploader(\"Upload a CSV file with 'postal_code' column\", type=\"csv\")\n",
        "print(uploaded_file)"
      ],
      "metadata": {
        "colab": {
          "base_uri": "https://localhost:8080/"
        },
        "id": "L6BgPJGbk5wU",
        "outputId": "553a8443-8744-4f27-92d7-17988cd8de97"
      },
      "execution_count": 28,
      "outputs": [
        {
          "output_type": "stream",
          "name": "stderr",
          "text": [
            "2025-08-06 21:05:12.652 Thread 'MainThread': missing ScriptRunContext! This warning can be ignored when running in bare mode.\n",
            "2025-08-06 21:05:12.653 Thread 'MainThread': missing ScriptRunContext! This warning can be ignored when running in bare mode.\n",
            "2025-08-06 21:05:12.654 Thread 'MainThread': missing ScriptRunContext! This warning can be ignored when running in bare mode.\n",
            "2025-08-06 21:05:12.655 Thread 'MainThread': missing ScriptRunContext! This warning can be ignored when running in bare mode.\n",
            "2025-08-06 21:05:12.656 Thread 'MainThread': missing ScriptRunContext! This warning can be ignored when running in bare mode.\n",
            "2025-08-06 21:05:12.657 Thread 'MainThread': missing ScriptRunContext! This warning can be ignored when running in bare mode.\n",
            "2025-08-06 21:05:12.659 Thread 'MainThread': missing ScriptRunContext! This warning can be ignored when running in bare mode.\n",
            "2025-08-06 21:05:12.660 Thread 'MainThread': missing ScriptRunContext! This warning can be ignored when running in bare mode.\n",
            "2025-08-06 21:05:12.661 Thread 'MainThread': missing ScriptRunContext! This warning can be ignored when running in bare mode.\n"
          ]
        },
        {
          "output_type": "stream",
          "name": "stdout",
          "text": [
            "None\n"
          ]
        }
      ]
    },
    {
      "cell_type": "code",
      "source": [
        "if uploaded_file:\n",
        "    try:\n",
        "        df = pd.read_csv(uploaded_file)\n",
        "        if 'postal_code' not in df.columns:\n",
        "            st.error(\"❌ The uploaded file must contain a 'postal_code' column.\")\n",
        "        else:\n",
        "            action = st.radio(\"Select Action\", [\"Group Zip Codes\", \"Ungroup Zip Codes\"])\n",
        "\n",
        "            if action == \"Group Zip Codes\":\n",
        "                result_df = group_postal_codes(df)\n",
        "                st.success(\"✅ Zip codes grouped by FSA (first 3 characters).\")\n",
        "            else:\n",
        "                if 'postal_code' in df.columns and isinstance(df['postal_code'].iloc[0], list):\n",
        "                    # Already in ungrouped format\n",
        "                    result_df = ungroup_postal_codes(df)\n",
        "                elif 'postal_code' in df.columns and df['postal_code'].apply(lambda x: isinstance(x, str) and x.startswith('[')).any():\n",
        "                    df['postal_code'] = df['postal_code'].apply(eval)  # Convert stringified list back to list\n",
        "                    result_df = ungroup_postal_codes(df)\n",
        "                else:\n",
        "                    st.error(\"⚠️ The file doesn't look grouped. Upload a grouped file for ungrouping.\")\n",
        "                    st.stop()\n",
        "\n",
        "                st.success(\"✅ Zip codes ungrouped into individual rows.\")\n",
        "\n",
        "            st.dataframe(result_df)\n",
        "  #Download link\n",
        "            csv = convert_df_to_csv(result_df)\n",
        "            st.download_button(\n",
        "                label=\"📥 Download Result CSV\",\n",
        "                data=csv,\n",
        "                file_name=\"processed_postal_codes.csv\",\n",
        "                mime=\"text/csv\"\n",
        "            )\n",
        "    except Exception as e:\n",
        "        st.error(f\"Something went wrong: {e}\")"
      ],
      "metadata": {
        "id": "rUUZh1wXlyP0"
      },
      "execution_count": 29,
      "outputs": []
    },
    {
      "cell_type": "code",
      "source": [
        " #"
      ],
      "metadata": {
        "id": "Qd0HkvtylKfr"
      },
      "execution_count": null,
      "outputs": []
    },
    {
      "cell_type": "code",
      "metadata": {
        "id": "817861fe"
      },
      "source": [],
      "execution_count": null,
      "outputs": []
    },
    {
      "cell_type": "code",
      "source": [],
      "metadata": {
        "id": "5H3weA_NmhfC"
      },
      "execution_count": null,
      "outputs": []
    }
  ]
}